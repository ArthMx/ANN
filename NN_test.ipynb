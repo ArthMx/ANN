{
 "cells": [
  {
   "cell_type": "code",
   "execution_count": 1,
   "metadata": {
    "collapsed": true
   },
   "outputs": [],
   "source": [
    "'''\n",
    "Created 01/05/2018\n",
    "\n",
    "The goal of this project is to implement a simple Neural Network \n",
    "in Python using numpy.\n",
    "\n",
    "Architecture of the NN : \n",
    "Tanh x 2 times + sigmoid for output\n",
    "'''\n",
    "import numpy as np\n",
    "import matplotlib.pyplot as plt\n",
    "import time\n",
    "\n",
    "def ReLU(Z):\n",
    "    '''\n",
    "    Compute the ReLU of the matrix Z\n",
    "    '''\n",
    "    relu = np.maximum(0, Z)\n",
    "    \n",
    "    return relu\n",
    "\n",
    "def Sigmoid(Z):\n",
    "    '''\n",
    "    Compute the sigmoid of the matrix Z\n",
    "    '''\n",
    "    sigmoid = 1/(1+np.exp(-Z))\n",
    "    \n",
    "    return sigmoid\n",
    "\n",
    "def InitializeParameters(n_x, n_1, n_2, n_y):\n",
    "    '''\n",
    "    Initialize the parameters values W and b for each layers.\n",
    "    --------\n",
    "    Input  \n",
    "            - n_x : number of features of X (input of the model)\n",
    "            - n_1 : number of units in layer 1\n",
    "            - n_2 : number of units in layer 2\n",
    "            - n_y : number of features of Y (label for prediction)\n",
    "    Output\n",
    "            - parameters : dictionnary of the parameters W and b\n",
    "                           for each layers\n",
    "    '''\n",
    "    parameters = {}\n",
    "    \n",
    "    parameters['W1'] = np.random.randn(n_1, n_x)*0.01\n",
    "    parameters['b1'] = np.zeros((n_1, 1))\n",
    "    parameters['W2'] = np.random.randn(n_2, n_1)*0.01\n",
    "    parameters['b2'] = np.zeros((n_2, 1))\n",
    "    parameters['W3'] = np.random.randn(n_y, n_2)*0.01\n",
    "    parameters['b3'] = np.zeros((n_y, 1))\n",
    "    \n",
    "    return parameters\n",
    "\n",
    "    \n",
    "def ForwardProp(X, parameters):\n",
    "    '''\n",
    "    Compute the prediction matrix A3.\n",
    "    --------\n",
    "    Input\n",
    "            - X : Matrix of input (n_x, m)\n",
    "            - parameters : dictionnary of parameters W and b, for each layers\n",
    "    Output\n",
    "            - A3 : The prediction matrix (n_y, m)\n",
    "            - cache : Dictionnary of the A and Z, to use them during backprop\n",
    "    '''\n",
    "    # get the parameters from the parameters dict\n",
    "    W1 = parameters['W1']\n",
    "    b1 = parameters['b1']\n",
    "    W2 = parameters['W2']\n",
    "    b2 = parameters['b2']\n",
    "    W3 = parameters['W3']\n",
    "    b3 = parameters['b3']\n",
    "    \n",
    "    # compute forward propagation\n",
    "    # first layer\n",
    "    Z1 = W1.dot(X) + b1\n",
    "    A1 = np.tanh(Z1)\n",
    "    # second layer\n",
    "    Z2 = W2.dot(A1) + b2\n",
    "    A2 = np.tanh(Z2)\n",
    "    # last layer\n",
    "    Z3 = W3.dot(A2) + b3\n",
    "    A3 = Sigmoid(Z3)\n",
    "    \n",
    "    # get the Z and A in to the cache dictionnary\n",
    "    cache = {}\n",
    "    cache['Z1'] = Z1\n",
    "    cache['A1'] = A1\n",
    "    cache['Z2'] = Z2\n",
    "    cache['A2'] = A2\n",
    "    \n",
    "    return A3, cache\n",
    "\n",
    "def ComputeCost(Y, A3):\n",
    "    '''\n",
    "    Compute the cost function.\n",
    "    --------\n",
    "    Input\n",
    "            - Y : Target matrix (n_y, m)\n",
    "            - A3 : Prediction matrix (n_y, m)\n",
    "    Output\n",
    "            - cost : the cost function computed for Y and A3\n",
    "    '''\n",
    "    # compute the loss matrix \n",
    "    loss = - Y * np.log(A3) - (1-Y) * np.log(1 - A3)\n",
    "    # sum the loss through the m examples\n",
    "    cost = np.average(loss)\n",
    "    \n",
    "    return cost\n",
    "\n",
    "\n",
    "def BackProp(X, Y, A3, parameters, cache):\n",
    "    '''\n",
    "    Compute the gradients of the cost for the parameters W, b of each layers\n",
    "    --------\n",
    "    Input\n",
    "            - X :\n",
    "            - Y :\n",
    "            - A3 :\n",
    "            - parameters : \n",
    "            - cache :\n",
    "    Output\n",
    "            - grads : dictionnary of the derivatives of the cost function\n",
    "                      for each parameters\n",
    "    '''\n",
    "    # m = number of training examples\n",
    "    m = X.shape[1]\n",
    "    \n",
    "    # get the A and Z from cache\n",
    "    Z1 = cache['Z1']\n",
    "    A1 = cache['A1']\n",
    "    Z2 = cache['Z2']\n",
    "    A2 = cache['A2']\n",
    "    \n",
    "    # get the W parameters\n",
    "    W3 = parameters['W3']\n",
    "    W2 = parameters['W2']\n",
    "    \n",
    "    # last layer\n",
    "    dZ3 = A3 - Y\n",
    "    dW3 = (1/m) * dZ3.dot(A2.T)\n",
    "    db3 = (1/m) * np.sum(dZ3, axis=1, keepdims=True)\n",
    "    # second layer\n",
    "    dA2 = W3.T.dot(dZ3)\n",
    "    dZ2 = (1 - np.tanh(Z2)**2) * dA2\n",
    "    dW2 = (1/m) * dZ2.dot(A1.T)\n",
    "    db2 = (1/m) * np.sum(dZ2, axis=1, keepdims=True)\n",
    "    # first layer\n",
    "    dA1 = W2.T.dot(dZ2)\n",
    "    dZ1 = (1 - np.tanh(Z1)**2) * dA1\n",
    "    dW1 = (1/m) * dZ1.dot(X.T)\n",
    "    db1 = (1/m) * np.sum(dZ1, axis=1, keepdims=True)\n",
    "    \n",
    "    grads = {}\n",
    "    grads['dW1'] = dW1\n",
    "    grads['db1'] = db1\n",
    "    grads['dW2'] = dW2\n",
    "    grads['db2'] = db2\n",
    "    grads['dW3'] = dW3\n",
    "    grads['db3'] = db3\n",
    "    \n",
    "    return grads\n",
    "\n",
    "def UpdateParameters(parameters, grads, learning_rate):\n",
    "    '''\n",
    "    Update the parameters by gradient descent\n",
    "    ---------\n",
    "    Input\n",
    "            - parameters : dictionnary of parameters W, b of each layer\n",
    "            - grads : dictionnary of gradient of the cost function\n",
    "                      for each parameters W, b of each leayer\n",
    "            - learning_rate : learning rate to use for updating the parameters\n",
    "    Output\n",
    "            - parameters : parameters updated after gradient descent\n",
    "    '''\n",
    "    # get parameters\n",
    "    W1 = parameters['W1']\n",
    "    b1 = parameters['b1']\n",
    "    W2 = parameters['W2']\n",
    "    b2 = parameters['b2']\n",
    "    W3 = parameters['W3']\n",
    "    b3 = parameters['b3']\n",
    "    \n",
    "    # get gradients\n",
    "    dW1 = grads['dW1']\n",
    "    db1 = grads['db1']\n",
    "    dW2 = grads['dW2']\n",
    "    db2 = grads['db2']\n",
    "    dW3 = grads['dW3']\n",
    "    db3 = grads['db3']\n",
    "    \n",
    "    # update the parameters    \n",
    "    parameters['W1'] = W1 - learning_rate * dW1\n",
    "    parameters['b1'] = b1 - learning_rate * db1\n",
    "    parameters['W2'] = W2 - learning_rate * dW2\n",
    "    parameters['b2'] = b2 - learning_rate * db2\n",
    "    parameters['W3'] = W3 - learning_rate * dW3\n",
    "    parameters['b3'] = b3 - learning_rate * db3\n",
    "    \n",
    "    return parameters\n",
    "\n",
    "def NN_model(X, Y, n_1, n_2, epoch=10000, learning_rate=0.01, verbose=True):\n",
    "    '''\n",
    "    Train a Neural Network of 3 layers (2 hidden layers Tanh and sigmoid for the output).\n",
    "    ----------\n",
    "    Input\n",
    "            - X : input training dataset (m, n_x)\n",
    "            - Y : target of the training dataset (m, 1)\n",
    "            - layer_units : tuple of number of units for the 2 ReLU layers\n",
    "            - epoch : number of iteration\n",
    "            - learning_rate : learning rate for the gradient descent\n",
    "            - verbose : if True, print cost function value every 100 epoch\n",
    "    Output\n",
    "            - parameters : dictionnary of the trained parameters W, b for each layers\n",
    "    '''\n",
    "    t0 = time.time()\n",
    "    # transpose X and Y\n",
    "    X = X.T\n",
    "    Y = Y.T\n",
    "    \n",
    "    # get the number of features n_x and number of examples m of X\n",
    "    n_x, m = X.shape\n",
    "    \n",
    "    # initialize the parameters\n",
    "    parameters = InitializeParameters(n_x, n_1, n_2, 1)\n",
    "    \n",
    "    # initialize a list to plot the evolution of the cost function\n",
    "    cost_list = []\n",
    "    for i in range(epoch):\n",
    "        # compute the forward propagation\n",
    "        A3, cache = ForwardProp(X, parameters)\n",
    "        \n",
    "        # compute the back propagation\n",
    "        grads = BackProp(X, Y, A3, parameters, cache)\n",
    "        \n",
    "        # update the parameters\n",
    "        parameters = UpdateParameters(parameters, grads, learning_rate)\n",
    "        \n",
    "        if  i%10 == 0:\n",
    "            # compute the cost function\n",
    "            cost = ComputeCost(Y, A3)\n",
    "            cost_list.append(cost)\n",
    "            \n",
    "            if verbose and (i%1000 == 0):\n",
    "                print('Cost function after epoch {} : {}'.format(i, cost))\n",
    "    \n",
    "    print('Cost function after epoch {} : {}'.format(epoch, cost))\n",
    "    print('Time : %.3f s' % (time.time()-t0))\n",
    "    \n",
    "    # print the cost function for each iterations\n",
    "    plt.plot(cost_list)\n",
    "    plt.title('Cost function')\n",
    "    plt.xlabel('Number of iterations')\n",
    "    plt.ylabel('Cost Function')\n",
    "    \n",
    "    return parameters, cost_list\n",
    "\n",
    "def MakePrediction(X, parameters):\n",
    "    '''\n",
    "    Make prediction of the data X\n",
    "    ---------\n",
    "    Input\n",
    "            - X : Input data (m, n_x)\n",
    "            - parameters : parameters W, b of each layers of the NN model\n",
    "    Output\n",
    "            - Y_pred : Predicted labels for X (m, n_y)\n",
    "    '''\n",
    "    X = X.T\n",
    "    A3, _ = ForwardProp(X, parameters)\n",
    "    Y_pred = (A3 > 0.5)*1\n",
    "    Y_pred = Y_pred.T # transpose the prediction to get the usual form (m, n_y)\n",
    "    \n",
    "    return Y_pred \n",
    "\n",
    "def GetAccuracy(Y, Y_pred):\n",
    "    '''\n",
    "    Compute the accuracy\n",
    "    --------\n",
    "    Input\n",
    "            - Y : Target labels (m, n_y)\n",
    "            - Y_pred : Predicted labels (m, n_y)\n",
    "    Output\n",
    "            - accuracy : accuracy value\n",
    "    '''\n",
    "    accuracy = np.average(Y == Y_pred)\n",
    "    \n",
    "    return accuracy"
   ]
  },
  {
   "cell_type": "markdown",
   "metadata": {},
   "source": [
    "# Test on digits\n",
    "\n",
    "Test of the NN on the digits dataset from scikit-learn. We'll try to predict if the picture is **1**."
   ]
  },
  {
   "cell_type": "code",
   "execution_count": 2,
   "metadata": {},
   "outputs": [
    {
     "name": "stdout",
     "output_type": "stream",
     "text": [
      "X shape : (1797, 64)\n",
      "Y shape : (1797, 1)\n"
     ]
    }
   ],
   "source": [
    "from sklearn.datasets import load_digits\n",
    "from sklearn.model_selection import train_test_split\n",
    "from sklearn.metrics import classification_report\n",
    "\n",
    "digits = load_digits()\n",
    "\n",
    "X = digits['data']/16 # normalize the values between 0 and 1\n",
    "Y = digits['target']\n",
    "Y = (Y == 1)*1  # target value =1 for digit 1, and 0 for all other digits\n",
    "\n",
    "Y = Y.reshape(-1, 1)\n",
    "print('X shape :', X.shape)\n",
    "print('Y shape :', Y.shape)"
   ]
  },
  {
   "cell_type": "markdown",
   "metadata": {},
   "source": [
    "### Plot a digit"
   ]
  },
  {
   "cell_type": "code",
   "execution_count": 3,
   "metadata": {
    "scrolled": true
   },
   "outputs": [
    {
     "data": {
      "image/png": "[encoded data removed]",
      "text/plain": [
       "<matplotlib.figure.Figure at 0x1377fd0a240>"
      ]
     },
     "metadata": {},
     "output_type": "display_data"
    }
   ],
   "source": [
    "%matplotlib inline\n",
    "\n",
    "index = 12\n",
    "digit = X[index].reshape(8,8)\n",
    "target = Y[index].squeeze()\n",
    "\n",
    "fig, ax = plt.subplots()\n",
    "fig.set_size_inches(5,5)\n",
    "ax.imshow(digit, cmap='gray_r')\n",
    "ax.set_title('y = {}'.format(target))\n",
    "ax.axis('off');"
   ]
  },
  {
   "cell_type": "markdown",
   "metadata": {},
   "source": [
    "### Split the data into train and test set"
   ]
  },
  {
   "cell_type": "code",
   "execution_count": 4,
   "metadata": {
    "collapsed": true
   },
   "outputs": [],
   "source": [
    "X_train, X_test, Y_train, Y_test = train_test_split(X, Y, test_size=0.2, random_state=42)"
   ]
  },
  {
   "cell_type": "markdown",
   "metadata": {},
   "source": [
    "### Train the model to predict images of **1**"
   ]
  },
  {
   "cell_type": "code",
   "execution_count": 5,
   "metadata": {
    "scrolled": false
   },
   "outputs": [
    {
     "name": "stdout",
     "output_type": "stream",
     "text": [
      "Cost function after epoch 0 : 0.6931467373746464\n",
      "Cost function after epoch 1000 : 0.3403216870700217\n",
      "Cost function after epoch 2000 : 0.060395094758117204\n",
      "Cost function after epoch 3000 : 0.031245351440609\n",
      "Cost function after epoch 4000 : 0.02146101578023537\n",
      "Cost function after epoch 5000 : 0.016894356153856288\n",
      "Time : 7.218 s\n"
     ]
    },
    {
     "data": {
      "image/png": "[encoded data removed]",
      "text/plain": [
       "<matplotlib.figure.Figure at 0x1377dcb8160>"
      ]
     },
     "metadata": {},
     "output_type": "display_data"
    }
   ],
   "source": [
    "n_1, n_2 = 20, 10\n",
    "\n",
    "parameters, cost_list = NN_model(X_train, Y_train, n_1, n_2, epoch=5000, learning_rate=0.1, verbose=True)"
   ]
  },
  {
   "cell_type": "markdown",
   "metadata": {},
   "source": [
    "### Train set accuracy"
   ]
  },
  {
   "cell_type": "code",
   "execution_count": 6,
   "metadata": {
    "scrolled": true
   },
   "outputs": [
    {
     "name": "stdout",
     "output_type": "stream",
     "text": [
      "train set accuracy : 0.99652052888\n",
      "             precision    recall  f1-score   support\n",
      "\n",
      "          0       1.00      1.00      1.00      1283\n",
      "          1       0.99      0.98      0.98       154\n",
      "\n",
      "avg / total       1.00      1.00      1.00      1437\n",
      "\n"
     ]
    }
   ],
   "source": [
    "Y_train_pred = MakePrediction(X_train, parameters)\n",
    "accuracy = GetAccuracy(Y_train, Y_train_pred)\n",
    "\n",
    "print('train set accuracy :', accuracy)\n",
    "print(classification_report(Y_train, Y_train_pred))"
   ]
  },
  {
   "cell_type": "markdown",
   "metadata": {},
   "source": [
    "### Test set accuracy"
   ]
  },
  {
   "cell_type": "code",
   "execution_count": 7,
   "metadata": {},
   "outputs": [
    {
     "name": "stdout",
     "output_type": "stream",
     "text": [
      "test set accuracy : 0.986111111111\n",
      "             precision    recall  f1-score   support\n",
      "\n",
      "          0       1.00      0.98      0.99       332\n",
      "          1       0.85      1.00      0.92        28\n",
      "\n",
      "avg / total       0.99      0.99      0.99       360\n",
      "\n"
     ]
    }
   ],
   "source": [
    "Y_test_pred = MakePrediction(X_test, parameters)\n",
    "accuracy = GetAccuracy(Y_test, Y_test_pred)\n",
    "\n",
    "print('test set accuracy :', accuracy)\n",
    "print(classification_report(Y_test, Y_test_pred))"
   ]
  },
  {
   "cell_type": "markdown",
   "metadata": {},
   "source": [
    "### Conclusion\n",
    "\n",
    "Very good performance on this small dataset !\n",
    "Next : implement a softmax classifier for the output, to predict every digits possible."
   ]
  }
 ],
 "metadata": {
  "kernelspec": {
   "display_name": "Python [default]",
   "language": "python",
   "name": "python3"
  },
  "language_info": {
   "codemirror_mode": {
    "name": "ipython",
    "version": 3
   },
   "file_extension": ".py",
   "mimetype": "text/x-python",
   "name": "python",
   "nbconvert_exporter": "python",
   "pygments_lexer": "ipython3",
   "version": "3.6.3"
  }
 },
 "nbformat": 4,
 "nbformat_minor": 2
}
